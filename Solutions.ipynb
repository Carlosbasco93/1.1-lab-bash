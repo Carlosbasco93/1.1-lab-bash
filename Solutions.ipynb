{
 "cells": [
  {
   "cell_type": "markdown",
   "id": "cae138ad",
   "metadata": {},
   "source": []
  },
  {
   "cell_type": "code",
   "execution_count": null,
   "id": "36b1f161",
   "metadata": {},
   "outputs": [],
   "source": [
    "#1.Imprime en consola Hello World.\n",
    "echo Hello World"
   ]
  },
  {
   "cell_type": "code",
   "execution_count": 2,
   "id": "02a18581",
   "metadata": {},
   "outputs": [
    {
     "data": {
      "text/plain": [
       "2.0"
      ]
     },
     "execution_count": 2,
     "metadata": {},
     "output_type": "execute_result"
    }
   ],
   "source": [
    "#2.Crea un directorio nuevo llamado new_dir.\n",
    "mkdir new_dir"
   ]
  },
  {
   "cell_type": "code",
   "execution_count": 3,
   "id": "e263d785",
   "metadata": {},
   "outputs": [
    {
     "data": {
      "text/plain": [
       "3.0"
      ]
     },
     "execution_count": 3,
     "metadata": {},
     "output_type": "execute_result"
    }
   ],
   "source": [
    "#3.Elimina ese directorio.\n",
    "rm -r new_dir"
   ]
  },
  {
   "cell_type": "code",
   "execution_count": null,
   "id": "b4959824",
   "metadata": {},
   "outputs": [],
   "source": [
    "\"\"\"\n",
    "#4.Copia el archivo sed.txt dentro de la carpeta lorem\n",
    "a la carpeta lorem-copy. \n",
    "TIP: Puede ser necesario crear la carpeta lorem-copy primero.\n",
    "\"\"\"\n",
    "mkdir lorem/lorem-copy\n",
    "cp lorem/sed.txt lorem/lorem-copy/"
   ]
  },
  {
   "cell_type": "code",
   "execution_count": null,
   "id": "64fabb89",
   "metadata": {},
   "outputs": [],
   "source": [
    "#5.Copia los otros dos archivos de la carpeta lorem a la carpeta lorem-copy en una sola línea.\n",
    "cp lorem/lorem.txt lorem/at.txt lorem-copy/"
   ]
  },
  {
   "cell_type": "code",
   "execution_count": null,
   "id": "9ded1e4b",
   "metadata": {},
   "outputs": [],
   "source": [
    "#6.Muestra el contenido del archivo sed.txt dentro de la carpeta lorem.\n",
    "cat lorem/sed.txt"
   ]
  },
  {
   "cell_type": "code",
   "execution_count": null,
   "id": "d3892e3d",
   "metadata": {},
   "outputs": [],
   "source": [
    "\"\"\"\n",
    "#7.Muestra el contenido de los archivos at.txt \n",
    "y lorem.txt dentro de la carpeta lorem.\n",
    "\"\"\"\n",
    "cat lorem/at.txt lorem/lorem.txt"
   ]
  },
  {
   "cell_type": "code",
   "execution_count": null,
   "id": "499a2f3c",
   "metadata": {},
   "outputs": [],
   "source": [
    "\"\"\"\n",
    "#8.Visualiza las primeras 3 líneas del archivo sed.txt \n",
    "dentro de la carpeta lorem-copy\n",
    "\"\"\"\n",
    "head -n3 lorem/lorem-copy/sed.txt"
   ]
  },
  {
   "cell_type": "code",
   "execution_count": null,
   "id": "14627092",
   "metadata": {},
   "outputs": [],
   "source": [
    "\"\"\"\n",
    "9.Visualiza las ultimas 3 líneas del archivo sed.txt \n",
    "dentro de la carpeta lorem-copy\n",
    "\"\"\"\n",
    "tail -n3 lorem/lorem-copy/sed.txt"
   ]
  },
  {
   "cell_type": "code",
   "execution_count": null,
   "id": "f5675827",
   "metadata": {},
   "outputs": [],
   "source": [
    "\"\"\"\n",
    "10.Añade Homo homini lupus. al final de archivo sed.txt \n",
    "dentro de la carpeta lorem-copy.\n",
    "\"\"\"\n",
    "echo Homo homini lupus >> lorem/lorem-copy/sed.txt"
   ]
  },
  {
   "cell_type": "code",
   "execution_count": null,
   "id": "56369fd8",
   "metadata": {},
   "outputs": [],
   "source": [
    "\"\"\"\n",
    "11.Visualiza las últimas 3 líneas del archivo sed.txt dentro de la carpeta lorem-copy. \n",
    "Deberías ver ahora Homo homini lupus..\n",
    "\"\"\"\n",
    "tail -n3 lorem/lorem-copy/sed.txt"
   ]
  },
  {
   "cell_type": "code",
   "execution_count": null,
   "id": "933a23bb",
   "metadata": {},
   "outputs": [],
   "source": [
    "\"\"\"\n",
    "12.Sustituye todas las apariciones de et por ET del archivo at.txt \n",
    "dentro de la carpeta lorem-copy. Deberás usar sed.\n",
    "\"\"\"\n",
    "sed 's/et/ET/g' <lorem/lorem-copy/at.txt"
   ]
  },
  {
   "cell_type": "code",
   "execution_count": null,
   "id": "a3b8ebc8",
   "metadata": {},
   "outputs": [],
   "source": [
    "#13.Encuentra al usuario activo en el sistema.\n",
    "id -un #también vale whoami"
   ]
  },
  {
   "cell_type": "code",
   "execution_count": null,
   "id": "69a450d0",
   "metadata": {},
   "outputs": [],
   "source": [
    "#14.Encuentra dónde estás en tu sistema de ficheros.\n",
    "pwd"
   ]
  },
  {
   "cell_type": "code",
   "execution_count": null,
   "id": "947101fe",
   "metadata": {},
   "outputs": [],
   "source": [
    "#15.Lista los archivos que terminan por .txt en la carpeta lorem.\n",
    "ls lorem/*.txt"
   ]
  },
  {
   "cell_type": "code",
   "execution_count": null,
   "id": "c7d39c6a",
   "metadata": {},
   "outputs": [],
   "source": [
    "#16.Cuenta el número de líneas que tiene el archivo sed.txt dentro \n",
    "#de la carpeta lorem.\n",
    "wc -l <lorem/sed.txt"
   ]
  },
  {
   "cell_type": "code",
   "execution_count": null,
   "id": "db118c15",
   "metadata": {},
   "outputs": [],
   "source": [
    "#17.Cuenta el número de archivos que empiezan por lorem que están en \n",
    "#este directorio y en directorios internos.\n",
    "find . -name \"lorem*.*\"| wc -l"
   ]
  },
  {
   "cell_type": "code",
   "execution_count": null,
   "id": "da1d5160",
   "metadata": {},
   "outputs": [],
   "source": [
    "# 18.Encuentra todas las apariciones \n",
    "# de et en at.txt dentro de la carpeta lorem.\n",
    "grep --color=always et lorem/at.txt"
   ]
  },
  {
   "cell_type": "code",
   "execution_count": null,
   "id": "aa073a07",
   "metadata": {},
   "outputs": [],
   "source": [
    "\"\"\"\n",
    "19.Cuenta el número de apariciones del \n",
    "string et en at.txt dentro de la carpeta lorem.\n",
    "\"\"\"\n",
    "grep -c et lorem/at.txt"
   ]
  },
  {
   "cell_type": "code",
   "execution_count": null,
   "id": "571b19a8",
   "metadata": {},
   "outputs": [],
   "source": [
    "\"\"\"\n",
    "20.Cuenta el número de apariciones del string \n",
    "et en todos los archivos del directorio lorem-copy.\n",
    "\"\"\"\n",
    "grep -c et lorem/lorem-copy/*"
   ]
  },
  {
   "cell_type": "code",
   "execution_count": null,
   "id": "d68c8a8b",
   "metadata": {},
   "outputs": [],
   "source": [
    "#Bonus\n",
    "#Almacena en una variable name tu nombre.\n",
    "aux=Carlos"
   ]
  },
  {
   "cell_type": "code",
   "execution_count": null,
   "id": "c3dc7633",
   "metadata": {},
   "outputs": [],
   "source": [
    "#Imprime esa variable.\n",
    "echo $aux"
   ]
  },
  {
   "cell_type": "code",
   "execution_count": null,
   "id": "af8e74f1",
   "metadata": {},
   "outputs": [],
   "source": [
    "#Crea un directorio nuevo \n",
    "#que se llame como el contenido de la variable name.\n",
    "mkdir $aux"
   ]
  },
  {
   "cell_type": "code",
   "execution_count": null,
   "id": "f206e1a8",
   "metadata": {},
   "outputs": [],
   "source": [
    "#Elimina ese directorio.\n",
    "rm -r $aux"
   ]
  },
  {
   "cell_type": "code",
   "execution_count": null,
   "id": "0089a585",
   "metadata": {},
   "outputs": [],
   "source": [
    "\"\"\"\n",
    "Muestra los procesos de forma jerárquica que se están\n",
    "ejecutando en tu ordenador:\n",
    "\n",
    "Usando el comando top o htop\n",
    "Usando el comando ps con argumentos\n",
    "\"\"\"\n",
    "top\n",
    "#Luego pulsas o y escribes CPU\n",
    "ps"
   ]
  },
  {
   "cell_type": "code",
   "execution_count": null,
   "id": "68ef6a40",
   "metadata": {},
   "outputs": [],
   "source": [
    "#Muestra información sobre tu procesador por pantalla\n",
    "top"
   ]
  },
  {
   "cell_type": "code",
   "execution_count": null,
   "id": "2080a686",
   "metadata": {},
   "outputs": [],
   "source": [
    "#Crea 3 alias y haz que estén disponibles cada vez que inicias sesión\n",
    "nano .zshrc\n",
    "#En el fichero ponemos esto:\n",
    "alias cls='clear'\n",
    "alias test='echo Hi, this is a test'\n",
    "alias test_dos='echo Hi, this is a second test'"
   ]
  },
  {
   "cell_type": "code",
   "execution_count": null,
   "id": "7312bfd9",
   "metadata": {},
   "outputs": [],
   "source": [
    "#Comprime las carpetas lorem y lorem-copy en un \n",
    "#archivo llamado lorem-compressed.tar.gz\n",
    "zip -r lorem-compressed.tar.gz lorem/lorem-copy/ lorem/"
   ]
  },
  {
   "cell_type": "code",
   "execution_count": null,
   "id": "2ad101a2",
   "metadata": {},
   "outputs": [],
   "source": [
    "#Descomprime el archivo lorem-compressed.tar.gz \n",
    "#en la carpeta lorem-uncompressed\n",
    "tar -xf lorem-compressed.tar.gz -C lorem-uncompressed"
   ]
  },
  {
   "cell_type": "code",
   "execution_count": null,
   "id": "c29ccd9f",
   "metadata": {},
   "outputs": [],
   "source": [
    "#Crea un script bash para imprimir los numeros de 1 a 100.\n",
    "touch imp_1_a_100.sh\n",
    "nano imp_1_a_100.sh\n",
    "#Dentro ponemos:\n",
    "for i in {1..100}\n",
    "do\n",
    "echo $i\n",
    "done"
   ]
  }
 ],
 "metadata": {
  "kernelspec": {
   "display_name": "Python 3 (ipykernel)",
   "language": "python",
   "name": "python3"
  },
  "language_info": {
   "codemirror_mode": {
    "name": "ipython",
    "version": 3
   },
   "file_extension": ".py",
   "mimetype": "text/x-python",
   "name": "python",
   "nbconvert_exporter": "python",
   "pygments_lexer": "ipython3",
   "version": "3.9.12"
  }
 },
 "nbformat": 4,
 "nbformat_minor": 5
}
